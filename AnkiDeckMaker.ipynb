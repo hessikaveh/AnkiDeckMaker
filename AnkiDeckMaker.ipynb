{
 "cells": [
  {
   "cell_type": "code",
   "execution_count": 4,
   "metadata": {},
   "outputs": [],
   "source": [
    "import PyPDF2"
   ]
  },
  {
   "cell_type": "code",
   "execution_count": 5,
   "metadata": {},
   "outputs": [],
   "source": [
    "pdffileobj = open('ac1.pdf','rb')"
   ]
  },
  {
   "cell_type": "code",
   "execution_count": 6,
   "metadata": {},
   "outputs": [],
   "source": [
    "pdfreader = PyPDF2.PdfFileReader(pdffileobj)"
   ]
  },
  {
   "cell_type": "code",
   "execution_count": 7,
   "metadata": {},
   "outputs": [
    {
     "name": "stdout",
     "output_type": "stream",
     "text": [
      "69\n"
     ]
    }
   ],
   "source": [
    "num_pages = pdfreader.numPages\n",
    "print(num_pages)"
   ]
  },
  {
   "cell_type": "code",
   "execution_count": 8,
   "metadata": {},
   "outputs": [],
   "source": [
    "text = \"\"\n",
    "for page_number in range(30):\n",
    "    pageobj = pdfreader.getPage(page_number)\n",
    "    text += pageobj.extractText()"
   ]
  },
  {
   "cell_type": "code",
   "execution_count": 9,
   "metadata": {},
   "outputs": [],
   "source": [
    "text = text.splitlines()"
   ]
  },
  {
   "cell_type": "code",
   "execution_count": 10,
   "metadata": {},
   "outputs": [
    {
     "name": "stdout",
     "output_type": "stream",
     "text": [
      " \n"
     ]
    }
   ],
   "source": [
    "i = 6\n",
    "print(text[i])\n",
    "if text[i].strip():\n",
    "    print(bool(text[i].strip()))\n",
    "    print(text[i])"
   ]
  },
  {
   "cell_type": "code",
   "execution_count": 25,
   "metadata": {},
   "outputs": [],
   "source": [
    "def cleaner(text_, idx_, cleaned_text_=[]):\n",
    "    prv = idx_ - 1\n",
    "    nxt = idx_ + 1 \n",
    "    if nxt == len(text_):\n",
    "        return cleaned_text_\n",
    "\n",
    "    if not text_[nxt].strip() and not text_[prv].strip():\n",
    "        cleaned_text_.append(text_[idx_])\n",
    "        return cleaner(text_, nxt, cleaned_text_)\n",
    "    elif text_[prv].strip() and text_[idx_].strip(): \n",
    "        text_[prv] = text_[prv]+text_[idx_]\n",
    "        del text_[idx_]\n",
    "        return cleaner(text_, idx_, cleaned_text_)\n",
    "    else:\n",
    "        return cleaner(text_, nxt, cleaned_text_)\n",
    "    \n",
    "\n"
   ]
  },
  {
   "cell_type": "code",
   "execution_count": 26,
   "metadata": {},
   "outputs": [],
   "source": [
    "cleaned_text = cleaner(text, 1)"
   ]
  },
  {
   "cell_type": "code",
   "execution_count": 28,
   "metadata": {},
   "outputs": [],
   "source": [
    "from gtts import gTTS\n",
    "import genanki\n",
    "from uuid import uuid4"
   ]
  },
  {
   "cell_type": "code",
   "execution_count": null,
   "metadata": {},
   "outputs": [],
   "source": [
    "deck = genanki.Deck(22329839281, 'Deutsch Englisch (C1)')\n",
    "model = genanki.Model(\n",
    "    787837837,\n",
    "    'Simple Model',\n",
    "    fields=[\n",
    "        {'name': 'Deutsch'},\n",
    "        {'name': 'Englisch'},\n",
    "    ],\n",
    "    templates=[\n",
    "        {\n",
    "            'name': 'Card1',\n",
    "            'qfmt': '{{Deutsch}}',\n",
    "            'afmt': '{{FrontSide}}<hr id=\"answer\">{{Deutsch}}'\n",
    "        },\n",
    "    ])\n",
    "package = genanki.Package(deck)\n",
    "mediafiles = []\n",
    "\n",
    "for idx, t in enumerate(cleaned_text):\n",
    "    if not bool(t.strip()):\n",
    "        continue\n",
    "    print(t)\n",
    "    guid = str(uuid4())\n",
    "    print(guid)\n",
    "    tts =  gTTS(text=t, lang='de', slow=False)\n",
    "    with open('{}.mp3'.format(guid),'wb') as f:\n",
    "        tts.write_to_fp(f)\n",
    "    mediafiles.append('{}.mp3'.format(guid))\n",
    "    my_note = genanki.Note(\n",
    "        model=model,\n",
    "        fields=['{}, [sound:{}.mp3]'.format(t, guid), t]\n",
    "    )\n",
    "    deck.add_note(my_note)\n",
    "\n",
    "package.media_files = mediafiles\n",
    "package.write_to_file('out_assimil.apkg')\n",
    "\n"
   ]
  },
  {
   "cell_type": "code",
   "execution_count": null,
   "metadata": {},
   "outputs": [],
   "source": []
  }
 ],
 "metadata": {
  "interpreter": {
   "hash": "f9228869a22f939298b00e6f14645b4d98744cd1b8f767fc2dfc80340ba916e9"
  },
  "kernelspec": {
   "display_name": "Python 3.8.12 ('base')",
   "language": "python",
   "name": "python3"
  },
  "language_info": {
   "codemirror_mode": {
    "name": "ipython",
    "version": 3
   },
   "file_extension": ".py",
   "mimetype": "text/x-python",
   "name": "python",
   "nbconvert_exporter": "python",
   "pygments_lexer": "ipython3",
   "version": "3.8.12"
  },
  "orig_nbformat": 4
 },
 "nbformat": 4,
 "nbformat_minor": 2
}
